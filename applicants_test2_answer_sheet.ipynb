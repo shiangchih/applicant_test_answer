{
 "cells": [
  {
   "cell_type": "markdown",
   "metadata": {},
   "source": [
    "**Note:** a live version should be available here:  \n",
    "[![Binder](https://mybinder.org/badge_logo.svg)](https://mybinder.org/v2/gh/birnstiel/applicants_test2/HEAD?filepath=questions.ipynb)"
   ]
  },
  {
   "cell_type": "code",
   "execution_count": 2,
   "metadata": {},
   "outputs": [],
   "source": [
    "import numpy as np\n",
    "import matplotlib.pyplot as plt"
   ]
  },
  {
   "cell_type": "code",
   "execution_count": 3,
   "metadata": {},
   "outputs": [],
   "source": [
    "au       = 1.496e13      # cm\n",
    "M_sun    = 1.988e+33     # g\n",
    "yr       = 3.15576e7     # s"
   ]
  },
  {
   "cell_type": "markdown",
   "metadata": {},
   "source": [
    "# Question 1"
   ]
  },
  {
   "cell_type": "markdown",
   "metadata": {},
   "source": [
    "An *axisymmetric* disk surface density profile is given in file `data.dat`. You can download this file [here](https://dl.dropboxusercontent.com/s/c00pl8niwbx1s0a/data.dat). The first column is the radial coordinate in cm, the second column the surface density density in g/cm$^2$."
   ]
  },
  {
   "cell_type": "markdown",
   "metadata": {},
   "source": [
    "Reading data"
   ]
  },
  {
   "cell_type": "code",
   "execution_count": 4,
   "metadata": {},
   "outputs": [],
   "source": [
    "r, sig = np.loadtxt('data.dat').T"
   ]
  },
  {
   "cell_type": "markdown",
   "metadata": {},
   "source": [
    "## a)\n",
    "Calculate the total mass of this distribution in solar masses."
   ]
  },
  {
   "cell_type": "markdown",
   "metadata": {},
   "source": [
    "**My answer** : \n",
    "\n",
    "Because the disk is axisymmetric, so I treat it as a 2-D circular disk. "
   ]
  },
  {
   "cell_type": "markdown",
   "metadata": {},
   "source": [
    "With different surface density at different radius, the total disc mass can be computed by the following function:\n",
    "$M_{disk}=\\int_{r}^{} 2\\pi r \\Sigma \\,dr$, \n",
    "\n",
    "$\\Sigma$ is disk surface density profile at radius r."
   ]
  },
  {
   "cell_type": "markdown",
   "metadata": {},
   "source": [
    "The data profile in `data.dat` is discrete, so I need to integral the disk in the interval between 2 adjacent data points."
   ]
  },
  {
   "cell_type": "markdown",
   "metadata": {},
   "source": [
    "The function I use in the program then become:\n",
    "\n",
    "$M_{disk}=\\int_{r_1}^{r_2} 2\\pi r \\Sigma \\,dr+\\int_{r_2}^{r_3} 2\\pi r \\Sigma \\,dr+......$ \n",
    "\n",
    "for all $r_i$ in `data.dat`.\n",
    "\n"
   ]
  },
  {
   "cell_type": "markdown",
   "metadata": {},
   "source": [
    "\n",
    "\n",
    "Calculate total disk mass:"
   ]
  },
  {
   "cell_type": "code",
   "execution_count": 11,
   "metadata": {},
   "outputs": [
    {
     "name": "stdout",
     "output_type": "stream",
     "text": [
      "disk mass = 0.05 M_sun\n"
     ]
    }
   ],
   "source": [
    "temp=np.pi*r[0]**2*sig[0]\n",
    "for i in range(1,len(sig)):\n",
    "    temp += np.pi*(r[i]**2-r[i-1]**2)*sig[i]  \n",
    "\n",
    "M_disk = temp\n",
    "print(f'disk mass = {M_disk / M_sun:.2g} M_sun')"
   ]
  },
  {
   "cell_type": "markdown",
   "metadata": {},
   "source": [
    "## b)\n",
    "The profile follows the following function:\n",
    "\n",
    "$\\Sigma = \\Sigma_c \\left( \\frac{r}{r_c} \\right)^{-1} \\, \\exp\\left( -\\frac{r}{r_c} \\right).$\n",
    "\n",
    "What is the $r_c$ of this disk?"
   ]
  },
  {
   "cell_type": "markdown",
   "metadata": {},
   "source": [
    "**My answer** : \n",
    "\n",
    "There is one parameter $\\Sigma_c$ that I am not sure what it is. However, some literatures show that $\\Sigma \\propto \\left( \\frac{r}{r_c} \\right)^{-1} \\, \\exp\\left( -\\frac{r}{r_c} \\right)$ (Birnstiel et al. 2012; Lynden-Bell & Pringle 1974). \n",
    "\n",
    "Therefore, $\\Sigma_c$ should be a constant.\n",
    "\n",
    "I divide 2 functions with different $r$ and $\\Sigma$ to let $\\Sigma_c$ dissappear:\n",
    "\n",
    "$$\\frac{\\Sigma_1}{\\Sigma_2} = \\frac{\\left( \\frac{r_1}{r_c} \\right)^{-1} \\, \\exp\\left( -\\frac{r_1}{r_c} \\right)}{\\left( \\frac{r_2}{r_c} \\right)^{-1} \\, \\exp\\left( -\\frac{r_2}{r_c} \\right)} .$$"
   ]
  },
  {
   "cell_type": "markdown",
   "metadata": {},
   "source": [
    "After doing some arithmetics:\n",
    "\n",
    "$$r_c=\\frac{r_1-r_2}{\\log \\frac{r_2\\Sigma_2}{r_1\\Sigma_1}}$$\n",
    "\n",
    "For any two pairs of $r_i$, $\\Sigma_i$ in `data.dat`"
   ]
  },
  {
   "cell_type": "markdown",
   "metadata": {},
   "source": [
    "Caculate $r_c$:"
   ]
  },
  {
   "cell_type": "code",
   "execution_count": 12,
   "metadata": {},
   "outputs": [
    {
     "name": "stdout",
     "output_type": "stream",
     "text": [
      "r_c = 65 au\n"
     ]
    }
   ],
   "source": [
    "first=0    #first chosen data point\n",
    "second=1   #sencond chosen data point\n",
    "\n",
    "r_c =(r[first]-r[second])/np.log((r[second]*sig[second])/(r[first]*sig[first]))\n",
    "\n",
    "print(f'r_c = {r_c / au:.2g} au')"
   ]
  },
  {
   "cell_type": "markdown",
   "metadata": {},
   "source": [
    "Different pairs of $r, \\Sigma$:"
   ]
  },
  {
   "cell_type": "code",
   "execution_count": 13,
   "metadata": {},
   "outputs": [
    {
     "name": "stdout",
     "output_type": "stream",
     "text": [
      "r_c = 65 au\n"
     ]
    }
   ],
   "source": [
    "first=200    #first chosen data point\n",
    "second=300   #sencond chosen data point\n",
    "\n",
    "r_c =(r[first]-r[second])/np.log((r[second]*sig[second])/(r[first]*sig[first]))\n",
    "\n",
    "print(f'r_c = {r_c / au:.2g} au')"
   ]
  },
  {
   "cell_type": "markdown",
   "metadata": {},
   "source": [
    "# Question 2: Integration"
   ]
  },
  {
   "cell_type": "markdown",
   "metadata": {},
   "source": [
    "Integrate the following equation forward in time:\n",
    "\n",
    "$$\\mathsf{\\frac{d^2 z}{dt^2} + z \\Omega^ 2 + \\frac{dz}{dt} \\, \\frac{\\Omega}{St} = 0}$$\n",
    "\n",
    "The initial condition at $t=0$ is\n",
    "\n",
    "\\begin{align}\n",
    "\\mathsf{\\Omega} &= \\mathsf{1.991\\times 10^{-7}\\,1/s}\\\\\n",
    "\\mathsf{St}     &= \\mathsf{100}\\\\\n",
    "\\mathsf{z}      &= \\mathsf{0.1\\,au}\\\\\n",
    "\\mathsf{v}      &= \\mathsf{0.0 \\,cm/s}\n",
    "\\end{align}\n",
    "\n",
    "You can write your own integrator (first order is fine) or use available libraries.  \n",
    "\n",
    "*Hint: you can split this second order equation into two coupled first order equations, one for $z(t)$ and one for $v(t) = \\frac{dz}{dt}$.*\n",
    "\n",
    "What is the value of $\\mathsf{z} $ at $\\mathsf{t=6} $ years? How about at $\\mathsf{t = \\infty}$ ?"
   ]
  },
  {
   "cell_type": "code",
   "execution_count": 20,
   "metadata": {},
   "outputs": [],
   "source": [
    "omega = 1.991e-07  # 1/s\n",
    "v     = 0.0        # cm/s\n",
    "z     = 0.1 * au   # cm\n",
    "St    = 100.0      # -\n",
    "n_t   = 200\n",
    "times = np.linspace(0.0, 6.0, n_t) * yr"
   ]
  },
  {
   "cell_type": "markdown",
   "metadata": {},
   "source": [
    "**My answer** : \n",
    "\n",
    "According to the hint, I separate that second-order equation into two first order equations:\n",
    "\n",
    "$\\frac{dz}{dt}=v(t)$ \n",
    "\n",
    "and \n",
    "\n",
    "$\\frac{dv}{dt}=-\\Omega^2z(t)-\\frac{\\Omega}{St}v(t)$\n",
    "\n",
    "**Solutoin 1** : I choose 4th order Runge-Kutta as my integration method (Referece: Burden, R. L., & Faires, J. D., *Numerical Analysis*, Pacific Grove, CA: Brooks/Cole Pub. Co):"
   ]
  },
  {
   "cell_type": "code",
   "execution_count": 21,
   "metadata": {},
   "outputs": [],
   "source": [
    "temp=[]\n",
    "a=0 *yr                    #integratoin in time interval [a,b]\n",
    "b=6 *yr    \n",
    "m=2                        #number of equations\n",
    "N=n_t                      #choosing timestep\n",
    "alpha=np.zeros(m)          #initial condition for z(0) and v(0)  \n",
    "alpha[0]=z\n",
    "alpha[1]=v\n",
    "\n",
    "def f0(t,w0,w1):           #equation of dz/dt\n",
    "    return w1\n",
    "def f1(t,w0,w1):           #equation of dv/dt\n",
    "    return -omega*omega*w0-omega/St*w1\n",
    "\n",
    "#Runge-Kutta algorithm\n",
    "def rk_sd(a,b,m,N,alpha):\n",
    "    h=(b-a)/N\n",
    "    t=a\n",
    "    w=np.zeros(m)\n",
    "    k=np.zeros((4,m))\n",
    "    for i in range(m):\n",
    "        w[i]=alpha[i]\n",
    "    for i in range(N):\n",
    "        for j in range(m):\n",
    "            k[0,j]=h*eval('f'+str(j))(t,w[0],w[1])\n",
    "        for j in range(m):\n",
    "            k[1,j]=h*eval('f'+str(j))(t+h/2,w[0]+1.0/2*k[0,0],w[1]+1.0/2*k[0,1])\n",
    "        for j in range(m):\n",
    "            k[2,j]=h*eval('f'+str(j))(t+h/2,w[0]+1.0/2*k[1,0],w[1]+1.0/2*k[1,1])\n",
    "        for j in range(m):\n",
    "            k[3,j]=h*eval('f'+str(j))(t+h,w[0]+k[2,0],w[1]+k[2,1])\n",
    "        for j in range(m):\n",
    "            w[j]+=(k[0,j]+2*k[1,j]+2*k[2,j]+k[3,j])/6\n",
    "        t=a+i*h\n",
    "        temp.append(w[0])    \n",
    "\n",
    "rk_sd(a,b,m,N,alpha)\n",
    "solution=np.array(temp)"
   ]
  },
  {
   "cell_type": "code",
   "execution_count": 22,
   "metadata": {},
   "outputs": [
    {
     "name": "stdout",
     "output_type": "stream",
     "text": [
      "solution at 6 yr: z = 0.082816 au\n"
     ]
    },
    {
     "data": {
      "image/png": "[encoded data removed]",
      "text/plain": [
       "<Figure size 432x288 with 1 Axes>"
      ]
     },
     "metadata": {
      "needs_background": "light"
     },
     "output_type": "display_data"
    }
   ],
   "source": [
    "f, ax = plt.subplots()\n",
    "ax.plot(times / yr, solution / au)\n",
    "ax.set_xlabel('$t$ [yr]')\n",
    "ax.set_ylabel('$z$ [au]')\n",
    "print(f'solution at {times[-1] / yr:.2g} yr: z = {solution[-1] / au:.6f} au')"
   ]
  },
  {
   "cell_type": "markdown",
   "metadata": {},
   "source": [
    " I expect the function will converge when $t=\\inf$, so I choose $t = 600 $ yr  and $n_t = 20000$ to compute the value the function converge to and rerun the program:"
   ]
  },
  {
   "cell_type": "code",
   "execution_count": 23,
   "metadata": {},
   "outputs": [],
   "source": [
    "n_t   = 20000\n",
    "times = np.linspace(0.0, 600.0, n_t) * yr\n",
    "temp=[]\n",
    "a=0 *yr                    #integratoin in time interval [a,b]\n",
    "b=600 *yr    \n",
    "m=2                        #number of equations\n",
    "N=n_t                      #choosing timestep\n",
    "alpha=np.zeros(m)          #initial condition for z(0) and v(0)  \n",
    "alpha[0]=z\n",
    "alpha[1]=v\n",
    "\n",
    "def f0(t,w0,w1):           #equation of dz/dt\n",
    "    return w1\n",
    "def f1(t,w0,w1):           #equation of dv/dt\n",
    "    return -omega*omega*w0-omega/St*w1\n",
    "\n",
    "#Runge-Kutta algorithm\n",
    "def rk_sd(a,b,m,N,alpha):\n",
    "    h=(b-a)/N\n",
    "    t=a\n",
    "    w=np.zeros(m)\n",
    "    k=np.zeros((4,m))\n",
    "    for i in range(m):\n",
    "        w[i]=alpha[i]\n",
    "    for i in range(N):\n",
    "        for j in range(m):\n",
    "            k[0,j]=h*eval('f'+str(j))(t,w[0],w[1])\n",
    "        for j in range(m):\n",
    "            k[1,j]=h*eval('f'+str(j))(t+h/2,w[0]+1.0/2*k[0,0],w[1]+1.0/2*k[0,1])\n",
    "        for j in range(m):\n",
    "            k[2,j]=h*eval('f'+str(j))(t+h/2,w[0]+1.0/2*k[1,0],w[1]+1.0/2*k[1,1])\n",
    "        for j in range(m):\n",
    "            k[3,j]=h*eval('f'+str(j))(t+h,w[0]+k[2,0],w[1]+k[2,1])\n",
    "        for j in range(m):\n",
    "            w[j]+=(k[0,j]+2*k[1,j]+2*k[2,j]+k[3,j])/6\n",
    "        t=a+i*h\n",
    "        temp.append(w[0])    \n",
    "\n",
    "rk_sd(a,b,m,N,alpha)\n",
    "solution=np.array(temp)"
   ]
  },
  {
   "cell_type": "code",
   "execution_count": 24,
   "metadata": {},
   "outputs": [
    {
     "name": "stdout",
     "output_type": "stream",
     "text": [
      "solution at 6e+02 yr: z = 0.000000 au\n"
     ]
    },
    {
     "data": {
      "image/png": "[encoded data removed]",
      "text/plain": [
       "<Figure size 432x288 with 1 Axes>"
      ]
     },
     "metadata": {
      "needs_background": "light"
     },
     "output_type": "display_data"
    }
   ],
   "source": [
    "f, ax = plt.subplots()\n",
    "ax.plot(times / yr, solution / au)\n",
    "ax.set_xlabel('$t$ [yr]')\n",
    "ax.set_ylabel('$z$ [au]')\n",
    "print(f'solution at {times[-1] / yr:.2g} yr: z = {solution[-1] / au:.6f} au')"
   ]
  },
  {
   "cell_type": "markdown",
   "metadata": {},
   "source": [
    "reset "
   ]
  },
  {
   "cell_type": "code",
   "execution_count": 26,
   "metadata": {},
   "outputs": [],
   "source": [
    "n_t   = 200\n",
    "times = np.linspace(0.0, 6.0, n_t) * yr"
   ]
  },
  {
   "cell_type": "markdown",
   "metadata": {},
   "source": [
    "**Solution 2** : I use odeint function from *scipy.integrate* to verify my result."
   ]
  },
  {
   "cell_type": "code",
   "execution_count": 27,
   "metadata": {},
   "outputs": [],
   "source": [
    "from scipy.integrate import odeint\n",
    "\n",
    "def func(y,times,omega,St):    #functions\n",
    "    z1,v1=y\n",
    "    return np.array([v1,-omega*omega*z1-omega/St*v1])\n",
    "\n",
    "temp = odeint(func, (z,v),times,args=(omega,St))\n",
    "solution=temp[:,0]"
   ]
  },
  {
   "cell_type": "code",
   "execution_count": 28,
   "metadata": {},
   "outputs": [
    {
     "name": "stdout",
     "output_type": "stream",
     "text": [
      "solution at 6 yr: z = 0.082820 au\n"
     ]
    },
    {
     "data": {
      "image/png": "[encoded data removed]",
      "text/plain": [
       "<Figure size 432x288 with 1 Axes>"
      ]
     },
     "metadata": {
      "needs_background": "light"
     },
     "output_type": "display_data"
    }
   ],
   "source": [
    "f, ax = plt.subplots()\n",
    "ax.plot(times / yr, solution / au)\n",
    "ax.set_xlabel('$t$ [yr]')\n",
    "ax.set_ylabel('$z$ [au]')\n",
    "print(f'solution at {times[-1] / yr:.2g} yr: z = {solution[-1] / au:.6f} au')"
   ]
  },
  {
   "cell_type": "markdown",
   "metadata": {},
   "source": [
    "When t is very large:"
   ]
  },
  {
   "cell_type": "code",
   "execution_count": 38,
   "metadata": {},
   "outputs": [],
   "source": [
    "n_t   = 20000\n",
    "times = np.linspace(0.0, 600.0, n_t) * yr\n",
    "temp = odeint(func, (z,v),times,args=(omega,St))\n",
    "solution=temp[:,0]"
   ]
  },
  {
   "cell_type": "code",
   "execution_count": 39,
   "metadata": {},
   "outputs": [
    {
     "name": "stdout",
     "output_type": "stream",
     "text": [
      "solution at 6e+02 yr: z = 0.000000 au\n"
     ]
    },
    {
     "data": {
      "image/png": "[encoded data removed]",
      "text/plain": [
       "<Figure size 432x288 with 1 Axes>"
      ]
     },
     "metadata": {
      "needs_background": "light"
     },
     "output_type": "display_data"
    }
   ],
   "source": [
    "f, ax = plt.subplots()\n",
    "ax.plot(times / yr, solution / au)\n",
    "ax.set_xlabel('$t$ [yr]')\n",
    "ax.set_ylabel('$z$ [au]')\n",
    "print(f'solution at {times[-1] / yr:.2g} yr: z = {solution[-1] / au:.6f} au')"
   ]
  }
 ],
 "metadata": {
  "kernelspec": {
   "display_name": "Python 3",
   "language": "python",
   "name": "python3"
  },
  "language_info": {
   "codemirror_mode": {
    "name": "ipython",
    "version": 3
   },
   "file_extension": ".py",
   "mimetype": "text/x-python",
   "name": "python",
   "nbconvert_exporter": "python",
   "pygments_lexer": "ipython3",
   "version": "3.8.3"
  },
  "toc-showcode": false,
  "toc-showtags": false
 },
 "nbformat": 4,
 "nbformat_minor": 5
}
