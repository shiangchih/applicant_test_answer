{
 "cells": [
  {
   "cell_type": "markdown",
   "id": "3c3b8d5a-36c9-4700-b838-6f79e99163cc",
   "metadata": {},
   "source": [
    "**Note:** a live version should be available here:  \n",
    "[![Binder](https://mybinder.org/badge_logo.svg)](https://mybinder.org/v2/gh/birnstiel/applicants_test2/HEAD?filepath=questions.ipynb)"
   ]
  },
  {
   "cell_type": "code",
   "execution_count": null,
   "id": "aboriginal-image",
   "metadata": {},
   "outputs": [],
   "source": [
    "import numpy as np\n",
    "import matplotlib.pyplot as plt"
   ]
  },
  {
   "cell_type": "code",
   "execution_count": null,
   "id": "interior-familiar",
   "metadata": {},
   "outputs": [],
   "source": [
    "au       = 1.496e13      # cm\n",
    "M_sun    = 1.988e+33     # g\n",
    "yr       = 3.15576e7     # s"
   ]
  },
  {
   "cell_type": "markdown",
   "id": "medical-genealogy",
   "metadata": {},
   "source": [
    "# Question 1"
   ]
  },
  {
   "cell_type": "markdown",
   "id": "6eb8cba5-e75e-49fb-b678-5418451a2f36",
   "metadata": {},
   "source": [
    "An *axisymmetric* disk surface density profile is given in file `data.dat`. You can download this file [here](https://dl.dropboxusercontent.com/s/c00pl8niwbx1s0a/data.dat). The first column is the radial coordinate in cm, the second column the surface density density in g/cm$^2$."
   ]
  },
  {
   "cell_type": "markdown",
   "id": "bd315496-1911-4e9a-a3fc-45f9813983a5",
   "metadata": {},
   "source": [
    "Reading data"
   ]
  },
  {
   "cell_type": "code",
   "execution_count": null,
   "id": "5c031137-dde6-4cd3-a615-6c9add7e2942",
   "metadata": {},
   "outputs": [],
   "source": [
    "r, sig = np.loadtxt('data.dat').T"
   ]
  },
  {
   "cell_type": "markdown",
   "id": "b2be4d7b-0524-48b1-a3d5-1c43851064d7",
   "metadata": {},
   "source": [
    "## a)\n",
    "Calculate the total mass of this distribution in solar masses."
   ]
  },
  {
   "cell_type": "code",
   "execution_count": null,
   "id": "dfbdc52e-f994-4a9d-b8ef-89477549ef8c",
   "metadata": {},
   "outputs": [],
   "source": [
    "M_disk = ...\n",
    "print(f'disk mass = {M_disk / M_sun:.2g} M_sun')"
   ]
  },
  {
   "cell_type": "markdown",
   "id": "e5fedfe5-2033-4ff9-a9d0-71b8af1051be",
   "metadata": {},
   "source": [
    "## b)\n",
    "The profile follows the following function:\n",
    "\n",
    "$\\Sigma = \\Sigma_c \\left( \\frac{r}{r_c} \\right)^{-1} \\, \\exp\\left( -\\frac{r}{r_c} \\right).$\n",
    "\n",
    "What is the $r_c$ of this disk?"
   ]
  },
  {
   "cell_type": "code",
   "execution_count": null,
   "id": "e0a6b15e-49e8-4208-9a6f-f3ffe20fd2c9",
   "metadata": {},
   "outputs": [],
   "source": [
    "r_c = ...\n",
    "print(f'r_c = {r_c / au:.2g} au')"
   ]
  },
  {
   "cell_type": "markdown",
   "id": "mediterranean-leave",
   "metadata": {},
   "source": [
    "# Question 2: Integration"
   ]
  },
  {
   "cell_type": "markdown",
   "id": "actual-colors",
   "metadata": {},
   "source": [
    "Integrate the following equation forward in time:\n",
    "\n",
    "$$\\mathsf{\\frac{d^2 z}{dt^2} + z \\Omega^ 2 + \\frac{dz}{dt} \\, \\frac{\\Omega}{St} = 0}$$\n",
    "\n",
    "The initial condition at $t=0$ is\n",
    "\n",
    "\\begin{align}\n",
    "\\mathsf{\\Omega} &= \\mathsf{1.991\\times 10^{-7}\\,1/s}\\\\\n",
    "\\mathsf{St}     &= \\mathsf{100}\\\\\n",
    "\\mathsf{z}      &= \\mathsf{0.1\\,au}\\\\\n",
    "\\mathsf{v}      &= \\mathsf{0.0 \\,cm/s}\n",
    "\\end{align}\n",
    "\n",
    "You can write your own integrator (first order is fine) or use available libraries.  \n",
    "\n",
    "*Hint: you can split this second order equation into two coupled first order equations, one for $z(t)$ and one for $v(t) = \\frac{dz}{dt}$.*\n",
    "\n",
    "What is the value of $\\mathsf{z} $ at $\\mathsf{t=6} $ years? How about at $\\mathsf{t = \\infty}$ ?"
   ]
  },
  {
   "cell_type": "code",
   "execution_count": null,
   "id": "a6cbc6b1-05f3-4d78-b0fa-416728d3cd55",
   "metadata": {},
   "outputs": [],
   "source": [
    "omega = 1.991e-07  # 1/s\n",
    "v     = 0.0        # cm/s\n",
    "z     = 0.1 * au   # cm\n",
    "St    = 100.0      # -\n",
    "n_t   = 200\n",
    "times = np.linspace(0.0, 6.0, n_t) * yr"
   ]
  },
  {
   "cell_type": "code",
   "execution_count": null,
   "id": "d3716ef8-9f84-4377-9139-d26a96bd0b52",
   "metadata": {},
   "outputs": [],
   "source": [
    "solution = ..."
   ]
  },
  {
   "cell_type": "code",
   "execution_count": null,
   "id": "2cdf634c-0528-43e4-a20c-d24820529862",
   "metadata": {},
   "outputs": [],
   "source": [
    "f, ax = plt.subplots()\n",
    "ax.plot(times / yr, solution / au)\n",
    "ax.set_xlabel('$t$ [yr]')\n",
    "ax.set_ylabel('$z$ [au]')\n",
    "print(f'solution at {times[-1] / yr:.2g} yr: z = {solution[-1] / au:.6f} au')"
   ]
  }
 ],
 "metadata": {
  "kernelspec": {
   "display_name": "Python 3",
   "language": "python",
   "name": "python3"
  },
  "language_info": {
   "codemirror_mode": {
    "name": "ipython",
    "version": 3
   },
   "file_extension": ".py",
   "mimetype": "text/x-python",
   "name": "python",
   "nbconvert_exporter": "python",
   "pygments_lexer": "ipython3",
   "version": "3.8.8"
  },
  "toc-showcode": false,
  "toc-showtags": false
 },
 "nbformat": 4,
 "nbformat_minor": 5
}
